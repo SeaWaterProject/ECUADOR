{
 "cells": [
  {
   "cell_type": "code",
   "execution_count": 1,
   "id": "e71858b1-dc6b-4ebd-8567-d40bee09aaed",
   "metadata": {},
   "outputs": [
    {
     "data": {
      "text/plain": [
       "['countries', 'rivers', 'cities', 'indicators']"
      ]
     },
     "execution_count": 1,
     "metadata": {},
     "output_type": "execute_result"
    }
   ],
   "source": [
    "linkWorldMap=\"https://github.com/CienciaDeDatosEspacial/intro_geodataframe/raw/main/maps/worldMaps.gpkg\"\n",
    "\n",
    "\n",
    "import geopandas as gpd\n",
    "from  fiona import listlayers\n",
    "listlayers(linkWorldMap)"
   ]
  },
  {
   "cell_type": "code",
   "execution_count": 2,
   "id": "b6baf4e4-be4f-4d7a-98db-e84960eda00d",
   "metadata": {},
   "outputs": [],
   "source": [
    "countries=gpd.read_file(linkWorldMap,layer='countries')\n",
    "rivers=gpd.read_file(linkWorldMap,layer='rivers')\n",
    "cities=gpd.read_file(linkWorldMap,layer='cities')\n",
    "indicators=gpd.read_file(linkWorldMap,layer='indicators')"
   ]
  },
  {
   "cell_type": "code",
   "execution_count": 3,
   "id": "55fcac10-d300-4bf3-a9e5-54000b715f2b",
   "metadata": {},
   "outputs": [
    {
     "data": {
      "text/html": [
       "<div>\n",
       "<style scoped>\n",
       "    .dataframe tbody tr th:only-of-type {\n",
       "        vertical-align: middle;\n",
       "    }\n",
       "\n",
       "    .dataframe tbody tr th {\n",
       "        vertical-align: top;\n",
       "    }\n",
       "\n",
       "    .dataframe thead th {\n",
       "        text-align: right;\n",
       "    }\n",
       "</style>\n",
       "<table border=\"1\" class=\"dataframe\">\n",
       "  <thead>\n",
       "    <tr style=\"text-align: right;\">\n",
       "      <th></th>\n",
       "      <th>COUNTRY</th>\n",
       "      <th>geometry</th>\n",
       "    </tr>\n",
       "  </thead>\n",
       "  <tbody>\n",
       "    <tr>\n",
       "      <th>0</th>\n",
       "      <td>Aruba (Netherlands)</td>\n",
       "      <td>POLYGON ((-69.88223 12.41111, -69.94695 12.436...</td>\n",
       "    </tr>\n",
       "    <tr>\n",
       "      <th>1</th>\n",
       "      <td>Antigua and Barbuda</td>\n",
       "      <td>MULTIPOLYGON (((-61.73889 17.54055, -61.75195 ...</td>\n",
       "    </tr>\n",
       "    <tr>\n",
       "      <th>3</th>\n",
       "      <td>Algeria</td>\n",
       "      <td>POLYGON ((-5.15213 30.18047, -5.13917 30.19236...</td>\n",
       "    </tr>\n",
       "    <tr>\n",
       "      <th>4</th>\n",
       "      <td>Azerbaijan</td>\n",
       "      <td>MULTIPOLYGON (((46.54037 38.87559, 46.49554 38...</td>\n",
       "    </tr>\n",
       "    <tr>\n",
       "      <th>5</th>\n",
       "      <td>Albania</td>\n",
       "      <td>POLYGON ((20.79192 40.43154, 20.78722 40.39472...</td>\n",
       "    </tr>\n",
       "    <tr>\n",
       "      <th>...</th>\n",
       "      <td>...</td>\n",
       "      <td>...</td>\n",
       "    </tr>\n",
       "    <tr>\n",
       "      <th>245</th>\n",
       "      <td>Zambia</td>\n",
       "      <td>POLYGON ((30.21302 -14.98172, 30.21917 -15.096...</td>\n",
       "    </tr>\n",
       "    <tr>\n",
       "      <th>246</th>\n",
       "      <td>Zimbabwe</td>\n",
       "      <td>POLYGON ((32.48888 -21.34445, 32.46541 -21.325...</td>\n",
       "    </tr>\n",
       "    <tr>\n",
       "      <th>247</th>\n",
       "      <td>South Sudan</td>\n",
       "      <td>POLYGON ((34.21807 9.96458, 34.20722 9.90500, ...</td>\n",
       "    </tr>\n",
       "    <tr>\n",
       "      <th>250</th>\n",
       "      <td>Curacao (Netherlands)</td>\n",
       "      <td>POLYGON ((-68.96556 12.19889, -68.91196 12.181...</td>\n",
       "    </tr>\n",
       "    <tr>\n",
       "      <th>251</th>\n",
       "      <td>Bonaire (Netherlands)</td>\n",
       "      <td>POLYGON ((-68.19736 12.22264, -68.19292 12.207...</td>\n",
       "    </tr>\n",
       "  </tbody>\n",
       "</table>\n",
       "<p>180 rows × 2 columns</p>\n",
       "</div>"
      ],
      "text/plain": [
       "                   COUNTRY                                           geometry\n",
       "0      Aruba (Netherlands)  POLYGON ((-69.88223 12.41111, -69.94695 12.436...\n",
       "1      Antigua and Barbuda  MULTIPOLYGON (((-61.73889 17.54055, -61.75195 ...\n",
       "3                  Algeria  POLYGON ((-5.15213 30.18047, -5.13917 30.19236...\n",
       "4               Azerbaijan  MULTIPOLYGON (((46.54037 38.87559, 46.49554 38...\n",
       "5                  Albania  POLYGON ((20.79192 40.43154, 20.78722 40.39472...\n",
       "..                     ...                                                ...\n",
       "245                 Zambia  POLYGON ((30.21302 -14.98172, 30.21917 -15.096...\n",
       "246               Zimbabwe  POLYGON ((32.48888 -21.34445, 32.46541 -21.325...\n",
       "247            South Sudan  POLYGON ((34.21807 9.96458, 34.20722 9.90500, ...\n",
       "250  Curacao (Netherlands)  POLYGON ((-68.96556 12.19889, -68.91196 12.181...\n",
       "251  Bonaire (Netherlands)  POLYGON ((-68.19736 12.22264, -68.19292 12.207...\n",
       "\n",
       "[180 rows x 2 columns]"
      ]
     },
     "execution_count": 3,
     "metadata": {},
     "output_type": "execute_result"
    }
   ],
   "source": [
    "countries.cx[:50,:50]"
   ]
  },
  {
   "cell_type": "code",
   "execution_count": 4,
   "id": "d94a388a-e0e1-4385-a939-d86f71697f8b",
   "metadata": {},
   "outputs": [
    {
     "data": {
      "text/plain": [
       "<Axes: >"
      ]
     },
     "execution_count": 4,
     "metadata": {},
     "output_type": "execute_result"
    },
    {
     "data": {
      "image/png": "[encoded data removed]",
      "text/plain": [
       "<Figure size 640x480 with 1 Axes>"
      ]
     },
     "metadata": {},
     "output_type": "display_data"
    }
   ],
   "source": [
    "#then\n",
    "countries.cx[:50,:50].plot()"
   ]
  },
  {
   "cell_type": "code",
   "execution_count": 5,
   "id": "a269368c-c3e6-45b0-9f37-148880b4d0e2",
   "metadata": {},
   "outputs": [],
   "source": [
    "ecuador =countries[countries.COUNTRY=='Ecuador']"
   ]
  },
  {
   "cell_type": "code",
   "execution_count": 6,
   "id": "f09eb00e-c936-404f-908c-10f4e08a1f5c",
   "metadata": {},
   "outputs": [],
   "source": [
    "citiesEcuador_clipped = gpd.clip(gdf=cities,\n",
    "                          mask=ecuador)\n",
    "riversEcuador_clipped = gpd.clip(gdf=rivers,\n",
    "                               mask=ecuador)"
   ]
  },
  {
   "cell_type": "code",
   "execution_count": 7,
   "id": "242bc1e5-941c-43e6-85a6-5fa0b1b5746f",
   "metadata": {},
   "outputs": [
    {
     "data": {
      "text/plain": [
       "<Axes: >"
      ]
     },
     "execution_count": 7,
     "metadata": {},
     "output_type": "execute_result"
    },
    {
     "data": {
      "image/png": "[encoded data removed]",
      "text/plain": [
       "<Figure size 500x500 with 1 Axes>"
      ]
     },
     "metadata": {},
     "output_type": "display_data"
    }
   ],
   "source": [
    "base = ecuador.plot(facecolor=\"greenyellow\", edgecolor='black', linewidth=0.4,figsize=(5,5))\n",
    "citiesEcuador_clipped.plot(marker='+', color='red', markersize=15,\n",
    "                    ax=base)\n",
    "riversEcuador_clipped.plot(edgecolor='blue', linewidth=0.4,\n",
    "                    ax=base)"
   ]
  },
  {
   "cell_type": "code",
   "execution_count": 8,
   "id": "1d98167f-96a4-488d-9db2-200e0aec4e5f",
   "metadata": {},
   "outputs": [
    {
     "data": {
      "text/plain": [
       "[Axis(name=Easting, abbrev=E, direction=east, unit_auth_code=EPSG, unit_code=9001, unit_name=metre),\n",
       " Axis(name=Northing, abbrev=N, direction=north, unit_auth_code=EPSG, unit_code=9001, unit_name=metre)]"
      ]
     },
     "execution_count": 8,
     "metadata": {},
     "output_type": "execute_result"
    }
   ],
   "source": [
    "ecuador.to_crs(24817).crs.axis_info"
   ]
  },
  {
   "cell_type": "code",
   "execution_count": 9,
   "id": "2fb0bf65-02c0-4da0-be50-717cd08c027c",
   "metadata": {},
   "outputs": [
    {
     "data": {
      "text/plain": [
       "60    POINT (747799.420 -157334.810)\n",
       "dtype: geometry"
      ]
     },
     "execution_count": 9,
     "metadata": {},
     "output_type": "execute_result"
    }
   ],
   "source": [
    "# now this works with no warning\n",
    "ecuador.to_crs(24817).centroid"
   ]
  },
  {
   "cell_type": "code",
   "execution_count": 10,
   "id": "a633dfd7-6a8e-41a8-8749-474eb3c74c3f",
   "metadata": {},
   "outputs": [
    {
     "data": {
      "text/plain": [
       "60    POINT (747799.420 -157334.810)\n",
       "dtype: geometry"
      ]
     },
     "execution_count": 10,
     "metadata": {},
     "output_type": "execute_result"
    }
   ],
   "source": [
    "# now this works with no warning\n",
    "ecuador.to_crs(24817).centroid"
   ]
  },
  {
   "cell_type": "code",
   "execution_count": 11,
   "id": "b1ea1965-283b-44ae-817d-587f3c83f1c4",
   "metadata": {},
   "outputs": [],
   "source": [
    "ecuador_24817=ecuador.to_crs(24817)\n",
    "cities_Ecuador_24817=citiesEcuador_clipped.to_crs(ecuador_24817.crs)\n",
    "rivers_Ecuador_24817=riversEcuador_clipped.to_crs(ecuador_24817.crs)"
   ]
  },
  {
   "cell_type": "code",
   "execution_count": 12,
   "id": "8fd4e7a7-8de9-4b15-9942-2d94511c8b7d",
   "metadata": {},
   "outputs": [],
   "source": [
    "## saving\n",
    "\n",
    "\n",
    "import os\n",
    "\n",
    "ecuador_24817.to_file(os.path.join(\"maps\",\"ecuadorMaps_24817.gpkg\"), layer='country', driver=\"GPKG\")\n",
    "cities_Ecuador_24817.to_file(os.path.join(\"maps\",\"ecuadorMaps_24817.gpkg\"), layer='cities', driver=\"GPKG\")\n",
    "rivers_Ecuador_24817.to_file(os.path.join(\"maps\",\"ecuadorMaps_24817.gpkg\"), layer='rivers', driver=\"GPKG\")\n",
    "ecuador_24817.centroid.to_file(os.path.join(\"maps\",\"ecuadorMaps_24817.gpkg\"), layer='centroid', driver=\"GPKG\")"
   ]
  },
  {
   "cell_type": "code",
   "execution_count": 13,
   "id": "e8eca875-b7de-4e61-ba8f-a73ec126441a",
   "metadata": {},
   "outputs": [
    {
     "data": {
      "text/html": [
       "<div>\n",
       "<style scoped>\n",
       "    .dataframe tbody tr th:only-of-type {\n",
       "        vertical-align: middle;\n",
       "    }\n",
       "\n",
       "    .dataframe tbody tr th {\n",
       "        vertical-align: top;\n",
       "    }\n",
       "\n",
       "    .dataframe thead th {\n",
       "        text-align: right;\n",
       "    }\n",
       "</style>\n",
       "<table border=\"1\" class=\"dataframe\">\n",
       "  <thead>\n",
       "    <tr style=\"text-align: right;\">\n",
       "      <th></th>\n",
       "      <th>id</th>\n",
       "      <th>ident</th>\n",
       "      <th>type</th>\n",
       "      <th>name</th>\n",
       "      <th>latitude_deg</th>\n",
       "      <th>longitude_deg</th>\n",
       "      <th>elevation_ft</th>\n",
       "      <th>continent</th>\n",
       "      <th>country_name</th>\n",
       "      <th>iso_country</th>\n",
       "      <th>...</th>\n",
       "      <th>municipality</th>\n",
       "      <th>scheduled_service</th>\n",
       "      <th>gps_code</th>\n",
       "      <th>iata_code</th>\n",
       "      <th>local_code</th>\n",
       "      <th>home_link</th>\n",
       "      <th>wikipedia_link</th>\n",
       "      <th>keywords</th>\n",
       "      <th>score</th>\n",
       "      <th>last_updated</th>\n",
       "    </tr>\n",
       "  </thead>\n",
       "  <tbody>\n",
       "    <tr>\n",
       "      <th>0</th>\n",
       "      <td>308273</td>\n",
       "      <td>SEQM</td>\n",
       "      <td>large_airport</td>\n",
       "      <td>Mariscal Sucre International Airport</td>\n",
       "      <td>-0.125399</td>\n",
       "      <td>-78.354306</td>\n",
       "      <td>7841.0</td>\n",
       "      <td>SA</td>\n",
       "      <td>Ecuador</td>\n",
       "      <td>EC</td>\n",
       "      <td>...</td>\n",
       "      <td>Quito</td>\n",
       "      <td>1</td>\n",
       "      <td>SEQM</td>\n",
       "      <td>UIO</td>\n",
       "      <td>UIO</td>\n",
       "      <td>https://www.aeropuertoquito.aero/?lang=en</td>\n",
       "      <td>https://en.wikipedia.org/wiki/Mariscal_Sucre_I...</td>\n",
       "      <td>Nuevo Aeropuerto Internacional Mariscal Sucre</td>\n",
       "      <td>1000</td>\n",
       "      <td>2024-05-09T15:00:40+00:00</td>\n",
       "    </tr>\n",
       "    <tr>\n",
       "      <th>1</th>\n",
       "      <td>6056</td>\n",
       "      <td>SEGU</td>\n",
       "      <td>large_airport</td>\n",
       "      <td>José Joaquín de Olmedo International Airport</td>\n",
       "      <td>-2.157420</td>\n",
       "      <td>-79.883598</td>\n",
       "      <td>19.0</td>\n",
       "      <td>SA</td>\n",
       "      <td>Ecuador</td>\n",
       "      <td>EC</td>\n",
       "      <td>...</td>\n",
       "      <td>Guayaquil</td>\n",
       "      <td>1</td>\n",
       "      <td>SEGU</td>\n",
       "      <td>GYE</td>\n",
       "      <td>NaN</td>\n",
       "      <td>NaN</td>\n",
       "      <td>https://en.wikipedia.org/wiki/Jos%C3%A9_Joaqu%...</td>\n",
       "      <td>Simon Bolivar International Airport</td>\n",
       "      <td>1050</td>\n",
       "      <td>2021-07-31T17:42:30+00:00</td>\n",
       "    </tr>\n",
       "    <tr>\n",
       "      <th>2</th>\n",
       "      <td>6055</td>\n",
       "      <td>SEGS</td>\n",
       "      <td>small_airport</td>\n",
       "      <td>Seymour Galapagos Ecological Airport</td>\n",
       "      <td>-0.453758</td>\n",
       "      <td>-90.265900</td>\n",
       "      <td>207.0</td>\n",
       "      <td>SA</td>\n",
       "      <td>Ecuador</td>\n",
       "      <td>EC</td>\n",
       "      <td>...</td>\n",
       "      <td>Isla Baltra</td>\n",
       "      <td>1</td>\n",
       "      <td>SEGS</td>\n",
       "      <td>GPS</td>\n",
       "      <td>NaN</td>\n",
       "      <td>NaN</td>\n",
       "      <td>https://en.wikipedia.org/wiki/Seymour_Airport</td>\n",
       "      <td>NaN</td>\n",
       "      <td>150</td>\n",
       "      <td>2023-10-18T20:59:45+00:00</td>\n",
       "    </tr>\n",
       "    <tr>\n",
       "      <th>3</th>\n",
       "      <td>6073</td>\n",
       "      <td>SEQU</td>\n",
       "      <td>heliport</td>\n",
       "      <td>Mariscal Sucre Air Base</td>\n",
       "      <td>-0.136782</td>\n",
       "      <td>-78.490598</td>\n",
       "      <td>9228.0</td>\n",
       "      <td>SA</td>\n",
       "      <td>Ecuador</td>\n",
       "      <td>EC</td>\n",
       "      <td>...</td>\n",
       "      <td>Quito</td>\n",
       "      <td>0</td>\n",
       "      <td>NaN</td>\n",
       "      <td>NaN</td>\n",
       "      <td>NaN</td>\n",
       "      <td>http://www.aeropuertoquito.aero/</td>\n",
       "      <td>https://en.wikipedia.org/wiki/Old_Mariscal_Suc...</td>\n",
       "      <td>Quito, Ecuador, Dangerous, Closed, Mountains, ...</td>\n",
       "      <td>475</td>\n",
       "      <td>2022-11-24T09:06:36+00:00</td>\n",
       "    </tr>\n",
       "    <tr>\n",
       "      <th>352</th>\n",
       "      <td>512243</td>\n",
       "      <td>EC-0058</td>\n",
       "      <td>closed</td>\n",
       "      <td>Haciendó Acapulco Airstrip</td>\n",
       "      <td>1.110251</td>\n",
       "      <td>-79.137712</td>\n",
       "      <td>12.0</td>\n",
       "      <td>SA</td>\n",
       "      <td>Ecuador</td>\n",
       "      <td>EC</td>\n",
       "      <td>...</td>\n",
       "      <td>Rompido</td>\n",
       "      <td>0</td>\n",
       "      <td>NaN</td>\n",
       "      <td>NaN</td>\n",
       "      <td>NaN</td>\n",
       "      <td>NaN</td>\n",
       "      <td>NaN</td>\n",
       "      <td>NaN</td>\n",
       "      <td>0</td>\n",
       "      <td>2023-09-21T00:36:21+00:00</td>\n",
       "    </tr>\n",
       "    <tr>\n",
       "      <th>353</th>\n",
       "      <td>512330</td>\n",
       "      <td>SEAV</td>\n",
       "      <td>heliport</td>\n",
       "      <td>Teniente Pablo Valdéz Carvallo Heliport</td>\n",
       "      <td>-3.446531</td>\n",
       "      <td>-79.980131</td>\n",
       "      <td>23.0</td>\n",
       "      <td>SA</td>\n",
       "      <td>Ecuador</td>\n",
       "      <td>EC</td>\n",
       "      <td>...</td>\n",
       "      <td>Santa Rosa</td>\n",
       "      <td>0</td>\n",
       "      <td>SEAV</td>\n",
       "      <td>NaN</td>\n",
       "      <td>NaN</td>\n",
       "      <td>NaN</td>\n",
       "      <td>NaN</td>\n",
       "      <td>NaN</td>\n",
       "      <td>0</td>\n",
       "      <td>2023-09-22T20:55:06+00:00</td>\n",
       "    </tr>\n",
       "    <tr>\n",
       "      <th>354</th>\n",
       "      <td>515472</td>\n",
       "      <td>SELN</td>\n",
       "      <td>heliport</td>\n",
       "      <td>Belén Heliport</td>\n",
       "      <td>-0.241944</td>\n",
       "      <td>-79.312500</td>\n",
       "      <td>1140.0</td>\n",
       "      <td>SA</td>\n",
       "      <td>Ecuador</td>\n",
       "      <td>EC</td>\n",
       "      <td>...</td>\n",
       "      <td>Santo Domingo de los Tsáchilas</td>\n",
       "      <td>0</td>\n",
       "      <td>SELN</td>\n",
       "      <td>NaN</td>\n",
       "      <td>NaN</td>\n",
       "      <td>NaN</td>\n",
       "      <td>NaN</td>\n",
       "      <td>NaN</td>\n",
       "      <td>0</td>\n",
       "      <td>2023-11-21T14:31:13+00:00</td>\n",
       "    </tr>\n",
       "    <tr>\n",
       "      <th>355</th>\n",
       "      <td>512910</td>\n",
       "      <td>SEEM</td>\n",
       "      <td>heliport</td>\n",
       "      <td>Emsecor Heliport</td>\n",
       "      <td>-0.222535</td>\n",
       "      <td>-78.377947</td>\n",
       "      <td>8000.0</td>\n",
       "      <td>SA</td>\n",
       "      <td>Ecuador</td>\n",
       "      <td>EC</td>\n",
       "      <td>...</td>\n",
       "      <td>Tumbaco</td>\n",
       "      <td>0</td>\n",
       "      <td>SEEM</td>\n",
       "      <td>NaN</td>\n",
       "      <td>NaN</td>\n",
       "      <td>NaN</td>\n",
       "      <td>NaN</td>\n",
       "      <td>NaN</td>\n",
       "      <td>0</td>\n",
       "      <td>2023-10-05T12:13:17+00:00</td>\n",
       "    </tr>\n",
       "  </tbody>\n",
       "</table>\n",
       "<p>8 rows × 23 columns</p>\n",
       "</div>"
      ],
      "text/plain": [
       "         id    ident           type  \\\n",
       "0    308273     SEQM  large_airport   \n",
       "1      6056     SEGU  large_airport   \n",
       "2      6055     SEGS  small_airport   \n",
       "3      6073     SEQU       heliport   \n",
       "352  512243  EC-0058         closed   \n",
       "353  512330     SEAV       heliport   \n",
       "354  515472     SELN       heliport   \n",
       "355  512910     SEEM       heliport   \n",
       "\n",
       "                                             name  latitude_deg  \\\n",
       "0            Mariscal Sucre International Airport     -0.125399   \n",
       "1    José Joaquín de Olmedo International Airport     -2.157420   \n",
       "2            Seymour Galapagos Ecological Airport     -0.453758   \n",
       "3                         Mariscal Sucre Air Base     -0.136782   \n",
       "352                    Haciendó Acapulco Airstrip      1.110251   \n",
       "353       Teniente Pablo Valdéz Carvallo Heliport     -3.446531   \n",
       "354                                Belén Heliport     -0.241944   \n",
       "355                              Emsecor Heliport     -0.222535   \n",
       "\n",
       "     longitude_deg  elevation_ft continent country_name iso_country  ...  \\\n",
       "0       -78.354306        7841.0        SA      Ecuador          EC  ...   \n",
       "1       -79.883598          19.0        SA      Ecuador          EC  ...   \n",
       "2       -90.265900         207.0        SA      Ecuador          EC  ...   \n",
       "3       -78.490598        9228.0        SA      Ecuador          EC  ...   \n",
       "352     -79.137712          12.0        SA      Ecuador          EC  ...   \n",
       "353     -79.980131          23.0        SA      Ecuador          EC  ...   \n",
       "354     -79.312500        1140.0        SA      Ecuador          EC  ...   \n",
       "355     -78.377947        8000.0        SA      Ecuador          EC  ...   \n",
       "\n",
       "                       municipality scheduled_service gps_code iata_code  \\\n",
       "0                             Quito                 1     SEQM       UIO   \n",
       "1                         Guayaquil                 1     SEGU       GYE   \n",
       "2                       Isla Baltra                 1     SEGS       GPS   \n",
       "3                             Quito                 0      NaN       NaN   \n",
       "352                         Rompido                 0      NaN       NaN   \n",
       "353                      Santa Rosa                 0     SEAV       NaN   \n",
       "354  Santo Domingo de los Tsáchilas                 0     SELN       NaN   \n",
       "355                         Tumbaco                 0     SEEM       NaN   \n",
       "\n",
       "     local_code                                  home_link  \\\n",
       "0           UIO  https://www.aeropuertoquito.aero/?lang=en   \n",
       "1           NaN                                        NaN   \n",
       "2           NaN                                        NaN   \n",
       "3           NaN           http://www.aeropuertoquito.aero/   \n",
       "352         NaN                                        NaN   \n",
       "353         NaN                                        NaN   \n",
       "354         NaN                                        NaN   \n",
       "355         NaN                                        NaN   \n",
       "\n",
       "                                        wikipedia_link  \\\n",
       "0    https://en.wikipedia.org/wiki/Mariscal_Sucre_I...   \n",
       "1    https://en.wikipedia.org/wiki/Jos%C3%A9_Joaqu%...   \n",
       "2        https://en.wikipedia.org/wiki/Seymour_Airport   \n",
       "3    https://en.wikipedia.org/wiki/Old_Mariscal_Suc...   \n",
       "352                                                NaN   \n",
       "353                                                NaN   \n",
       "354                                                NaN   \n",
       "355                                                NaN   \n",
       "\n",
       "                                              keywords score  \\\n",
       "0        Nuevo Aeropuerto Internacional Mariscal Sucre  1000   \n",
       "1                  Simon Bolivar International Airport  1050   \n",
       "2                                                  NaN   150   \n",
       "3    Quito, Ecuador, Dangerous, Closed, Mountains, ...   475   \n",
       "352                                                NaN     0   \n",
       "353                                                NaN     0   \n",
       "354                                                NaN     0   \n",
       "355                                                NaN     0   \n",
       "\n",
       "                  last_updated  \n",
       "0    2024-05-09T15:00:40+00:00  \n",
       "1    2021-07-31T17:42:30+00:00  \n",
       "2    2023-10-18T20:59:45+00:00  \n",
       "3    2022-11-24T09:06:36+00:00  \n",
       "352  2023-09-21T00:36:21+00:00  \n",
       "353  2023-09-22T20:55:06+00:00  \n",
       "354  2023-11-21T14:31:13+00:00  \n",
       "355  2023-10-05T12:13:17+00:00  \n",
       "\n",
       "[8 rows x 23 columns]"
      ]
     },
     "execution_count": 13,
     "metadata": {},
     "output_type": "execute_result"
    }
   ],
   "source": [
    "import pandas as pd\n",
    "infoairports=pd.read_csv(os.path.join(\"data\",\"ec-airports.csv\"))\n",
    "\n",
    "# some rows\n",
    "\n",
    "infoairports.iloc[[0,1,2,3,-4,-3,-2,-1],:] #head and tail\n"
   ]
  },
  {
   "cell_type": "code",
   "execution_count": 14,
   "id": "08ff5106-4e1f-45df-854f-223ce03d6763",
   "metadata": {},
   "outputs": [
    {
     "name": "stdout",
     "output_type": "stream",
     "text": [
      "<class 'pandas.core.frame.DataFrame'>\n",
      "RangeIndex: 356 entries, 0 to 355\n",
      "Data columns (total 7 columns):\n",
      " #   Column         Non-Null Count  Dtype  \n",
      "---  ------         --------------  -----  \n",
      " 0   name           356 non-null    object \n",
      " 1   type           356 non-null    object \n",
      " 2   latitude_deg   356 non-null    float64\n",
      " 3   longitude_deg  356 non-null    float64\n",
      " 4   elevation_ft   338 non-null    float64\n",
      " 5   region_name    356 non-null    object \n",
      " 6   municipality   348 non-null    object \n",
      "dtypes: float64(3), object(4)\n",
      "memory usage: 19.6+ KB\n"
     ]
    }
   ],
   "source": [
    "keep=['name','type','latitude_deg', 'longitude_deg','elevation_ft','region_name','municipality']\n",
    "infoairports=infoairports.loc[:,keep]\n",
    "\n",
    "infoairports.info()"
   ]
  },
  {
   "cell_type": "code",
   "execution_count": 15,
   "id": "525339b9-86c9-42ea-b973-8fb582acf677",
   "metadata": {},
   "outputs": [],
   "source": [
    "numericCols=['latitude_deg', 'longitude_deg','elevation_ft']\n",
    "infoairports[numericCols]=infoairports.loc[:,numericCols].apply(lambda x:pd.to_numeric(x))"
   ]
  },
  {
   "cell_type": "code",
   "execution_count": 16,
   "id": "02a24ed8-3f6f-4d1c-a77e-119f05954f0f",
   "metadata": {},
   "outputs": [
    {
     "data": {
      "text/plain": [
       "<Axes: >"
      ]
     },
     "execution_count": 16,
     "metadata": {},
     "output_type": "execute_result"
    },
    {
     "data": {
      "image/png": "[encoded data removed]",
      "text/plain": [
       "<Figure size 640x480 with 1 Axes>"
      ]
     },
     "metadata": {},
     "output_type": "display_data"
    }
   ],
   "source": [
    "airports=gpd.GeoDataFrame(data=infoairports.copy(),\n",
    "                 geometry=gpd.points_from_xy(infoairports.longitude_deg,\n",
    "                                             infoairports.latitude_deg),\n",
    "                 crs=ecuador.crs.to_epsg())# the coordinates were in degrees - unprojected\n",
    "\n",
    "# let's plot\n",
    "\n",
    "base = ecuador_24817.plot(color='white', edgecolor='black')\n",
    "airports.plot(ax=base)"
   ]
  },
  {
   "cell_type": "code",
   "execution_count": 17,
   "id": "64094a55-7625-45cc-aee0-b8a7aeb559fd",
   "metadata": {},
   "outputs": [
    {
     "data": {
      "text/plain": [
       "(geopandas.geodataframe.GeoDataFrame, pandas.core.frame.DataFrame)"
      ]
     },
     "execution_count": 17,
     "metadata": {},
     "output_type": "execute_result"
    }
   ],
   "source": [
    "#remember:\n",
    "type(airports), type(infoairports)"
   ]
  },
  {
   "cell_type": "code",
   "execution_count": 18,
   "id": "8068984c-f78d-4a44-b10b-073fc8951cdc",
   "metadata": {},
   "outputs": [
    {
     "data": {
      "text/plain": [
       "<Axes: >"
      ]
     },
     "execution_count": 18,
     "metadata": {},
     "output_type": "execute_result"
    },
    {
     "data": {
      "image/png": "[encoded data removed]",
      "text/plain": [
       "<Figure size 640x480 with 1 Axes>"
      ]
     },
     "metadata": {},
     "output_type": "display_data"
    }
   ],
   "source": [
    "airports_24817=airports.to_crs(24817)\n",
    "\n",
    "## then\n",
    "\n",
    "base = ecuador_24817.plot(color='white', edgecolor='black')\n",
    "airports_24817.plot(ax=base)"
   ]
  },
  {
   "cell_type": "code",
   "execution_count": 19,
   "id": "8d2b87a8-530e-4006-a0fc-26ce325724c4",
   "metadata": {},
   "outputs": [
    {
     "data": {
      "text/plain": [
       "type\n",
       "small_airport     300\n",
       "heliport           28\n",
       "medium_airport     14\n",
       "closed             12\n",
       "large_airport       2\n",
       "Name: count, dtype: int64"
      ]
     },
     "execution_count": 19,
     "metadata": {},
     "output_type": "execute_result"
    }
   ],
   "source": [
    "airports_24817['type'].value_counts() # this will not work: airports.type.value_counts()"
   ]
  },
  {
   "cell_type": "code",
   "execution_count": 20,
   "id": "1c91d600-9e43-46c4-aca4-982895d5cfb4",
   "metadata": {},
   "outputs": [],
   "source": [
    "airports_24817.rename(columns={'type':'kind'},inplace=True)\n",
    "\n",
    "## adding the airports to GPKG\n",
    "airports_24817.to_file(os.path.join(\"maps\",\"ecuadorMaps_24817.gpkg\"), layer='airports', driver=\"GPKG\")"
   ]
  },
  {
   "cell_type": "code",
   "execution_count": 21,
   "id": "a73eefd8-0c83-4f78-955e-71a01f3383c3",
   "metadata": {},
   "outputs": [
    {
     "data": {
      "text/html": [
       "<div>\n",
       "<style scoped>\n",
       "    .dataframe tbody tr th:only-of-type {\n",
       "        vertical-align: middle;\n",
       "    }\n",
       "\n",
       "    .dataframe tbody tr th {\n",
       "        vertical-align: top;\n",
       "    }\n",
       "\n",
       "    .dataframe thead th {\n",
       "        text-align: right;\n",
       "    }\n",
       "</style>\n",
       "<table border=\"1\" class=\"dataframe\">\n",
       "  <thead>\n",
       "    <tr style=\"text-align: right;\">\n",
       "      <th></th>\n",
       "      <th>COUNTRY</th>\n",
       "      <th>geometry</th>\n",
       "    </tr>\n",
       "  </thead>\n",
       "  <tbody>\n",
       "    <tr>\n",
       "      <th>60</th>\n",
       "      <td>Ecuador</td>\n",
       "      <td>MULTIPOLYGON (((754437.210 -506808.927, 752831...</td>\n",
       "    </tr>\n",
       "  </tbody>\n",
       "</table>\n",
       "</div>"
      ],
      "text/plain": [
       "    COUNTRY                                           geometry\n",
       "60  Ecuador  MULTIPOLYGON (((754437.210 -506808.927, 752831..."
      ]
     },
     "execution_count": 21,
     "metadata": {},
     "output_type": "execute_result"
    }
   ],
   "source": [
    "ecuador_24817"
   ]
  },
  {
   "cell_type": "code",
   "execution_count": 22,
   "id": "cffc36c2-c55d-4e3b-8c98-6782fa43f681",
   "metadata": {},
   "outputs": [
    {
     "data": {
      "text/plain": [
       "60    MULTILINESTRING ((754437.210 -506808.927, 7528...\n",
       "dtype: geometry"
      ]
     },
     "execution_count": 22,
     "metadata": {},
     "output_type": "execute_result"
    }
   ],
   "source": [
    "ecuador_24817.boundary"
   ]
  },
  {
   "cell_type": "code",
   "execution_count": 23,
   "id": "c03c7eb6-446a-46e8-8d36-80faa7da196e",
   "metadata": {},
   "outputs": [
    {
     "data": {
      "text/plain": [
       "<Axes: >"
      ]
     },
     "execution_count": 23,
     "metadata": {},
     "output_type": "execute_result"
    },
    {
     "data": {
      "image/png": "[encoded data removed]",
      "text/plain": [
       "<Figure size 640x480 with 1 Axes>"
      ]
     },
     "metadata": {},
     "output_type": "display_data"
    }
   ],
   "source": [
    "# This is just the borderline\n",
    "ecuador_24817.boundary.plot()"
   ]
  },
  {
   "cell_type": "code",
   "execution_count": 24,
   "id": "3311225f-6094-4153-973d-f9e0c91da648",
   "metadata": {},
   "outputs": [
    {
     "data": {
      "text/plain": [
       "geopandas.geoseries.GeoSeries"
      ]
     },
     "execution_count": 24,
     "metadata": {},
     "output_type": "execute_result"
    }
   ],
   "source": [
    "# does 'boundary' return a GDF?\n",
    "type(ecuador_24817.boundary)"
   ]
  },
  {
   "cell_type": "code",
   "execution_count": 25,
   "id": "51d11d61-3ac6-40d5-8694-70fea2fe8cbb",
   "metadata": {},
   "outputs": [
    {
     "data": {
      "text/html": [
       "<div>\n",
       "<style scoped>\n",
       "    .dataframe tbody tr th:only-of-type {\n",
       "        vertical-align: middle;\n",
       "    }\n",
       "\n",
       "    .dataframe tbody tr th {\n",
       "        vertical-align: top;\n",
       "    }\n",
       "\n",
       "    .dataframe thead th {\n",
       "        text-align: right;\n",
       "    }\n",
       "</style>\n",
       "<table border=\"1\" class=\"dataframe\">\n",
       "  <thead>\n",
       "    <tr style=\"text-align: right;\">\n",
       "      <th></th>\n",
       "      <th>0</th>\n",
       "    </tr>\n",
       "  </thead>\n",
       "  <tbody>\n",
       "    <tr>\n",
       "      <th>60</th>\n",
       "      <td>MULTILINESTRING ((754437.210 -506808.927, 7528...</td>\n",
       "    </tr>\n",
       "  </tbody>\n",
       "</table>\n",
       "</div>"
      ],
      "text/plain": [
       "                                                    0\n",
       "60  MULTILINESTRING ((754437.210 -506808.927, 7528..."
      ]
     },
     "execution_count": 25,
     "metadata": {},
     "output_type": "execute_result"
    }
   ],
   "source": [
    "# converting into GDF\n",
    "ecuador_24817.boundary.to_frame()"
   ]
  },
  {
   "cell_type": "code",
   "execution_count": 26,
   "id": "b683e1a8-281e-4b4e-beb0-4003877ca3f3",
   "metadata": {},
   "outputs": [
    {
     "data": {
      "text/plain": [
       "<Projected CRS: EPSG:24817>\n",
       "Name: PSAD56 / UTM zone 17N\n",
       "Axis Info [cartesian]:\n",
       "- E[east]: Easting (metre)\n",
       "- N[north]: Northing (metre)\n",
       "Area of Use:\n",
       "- name: South America (Ecuador) between 84°W and 78°W, northern hemisphere, onshore.\n",
       "- bounds: (-80.18, 0.0, -78.0, 1.45)\n",
       "Coordinate Operation:\n",
       "- name: UTM zone 17N\n",
       "- method: Transverse Mercator\n",
       "Datum: Provisional South American Datum 1956\n",
       "- Ellipsoid: International 1924\n",
       "- Prime Meridian: Greenwich"
      ]
     },
     "execution_count": 26,
     "metadata": {},
     "output_type": "execute_result"
    }
   ],
   "source": [
    "# conversion\n",
    "ecuador_border=ecuador_24817.boundary.to_frame()\n",
    "\n",
    "# new column (optional)\n",
    "ecuador_border['name']='Ecuador'\n",
    "\n",
    "# renaming the geometry column\n",
    "ecuador_border.rename(columns={0:'geometry'},inplace=True)\n",
    "\n",
    "#setting the geometry (the name is not enough)\n",
    "ecuador_border = ecuador_border.set_geometry(\"geometry\")\n",
    "\n",
    "# verifying:\n",
    "ecuador_border.crs"
   ]
  },
  {
   "cell_type": "code",
   "execution_count": 27,
   "id": "aec88c1d-d6cb-4d40-a8ab-7322b592b7ad",
   "metadata": {},
   "outputs": [],
   "source": [
    "ecuador_states=gpd.read_file(os.path.join(\"maps\",\"SHP\",\"nxcantones.shp\"))\n",
    "ecuador_municipalities=gpd.read_file(os.path.join(\"maps\",\"SHP\",\"nxcantones.shp\"))"
   ]
  },
  {
   "cell_type": "code",
   "execution_count": 28,
   "id": "ce3868ba-9db0-46e0-bb7f-ab8fcd6e7425",
   "metadata": {},
   "outputs": [
    {
     "data": {
      "text/plain": [
       "(geopandas.geodataframe.GeoDataFrame, geopandas.geodataframe.GeoDataFrame)"
      ]
     },
     "execution_count": 28,
     "metadata": {},
     "output_type": "execute_result"
    }
   ],
   "source": [
    "type(ecuador_states), type(ecuador_municipalities)"
   ]
  },
  {
   "cell_type": "code",
   "execution_count": 29,
   "id": "65bca6f1-412d-4390-a26f-57d88f4b24ee",
   "metadata": {},
   "outputs": [
    {
     "data": {
      "text/plain": [
       "0    POLYGON ((710807.591 9872762.982, 710853.291 9...\n",
       "1    POLYGON ((720530.210 9793835.659, 720541.380 9...\n",
       "2    POLYGON ((711141.911 9822095.666, 711185.441 9...\n",
       "3    POLYGON ((700585.537 9836991.327, 700609.658 9...\n",
       "4    POLYGON ((721746.267 9813431.090, 721746.237 9...\n",
       "Name: geometry, dtype: geometry"
      ]
     },
     "execution_count": 29,
     "metadata": {},
     "output_type": "execute_result"
    }
   ],
   "source": [
    "ecuador_states.geometry.head()"
   ]
  },
  {
   "cell_type": "code",
   "execution_count": 30,
   "id": "2db326db-4759-4073-9176-1c27162507d7",
   "metadata": {},
   "outputs": [
    {
     "data": {
      "text/plain": [
       "0    POLYGON ((710807.591 9872762.982, 710853.291 9...\n",
       "1    POLYGON ((720530.210 9793835.659, 720541.380 9...\n",
       "2    POLYGON ((711141.911 9822095.666, 711185.441 9...\n",
       "3    POLYGON ((700585.537 9836991.327, 700609.658 9...\n",
       "4    POLYGON ((721746.267 9813431.090, 721746.237 9...\n",
       "Name: geometry, dtype: geometry"
      ]
     },
     "execution_count": 30,
     "metadata": {},
     "output_type": "execute_result"
    }
   ],
   "source": [
    "ecuador_municipalities.geometry.head()"
   ]
  },
  {
   "cell_type": "code",
   "execution_count": 31,
   "id": "36ff2ed7-bad4-451e-871a-b4f8eaf82fc3",
   "metadata": {},
   "outputs": [
    {
     "data": {
      "text/plain": [
       "<Axes: >"
      ]
     },
     "execution_count": 31,
     "metadata": {},
     "output_type": "execute_result"
    },
    {
     "data": {
      "image/png": "[encoded data removed]",
      "text/plain": [
       "<Figure size 1200x1200 with 2 Axes>"
      ]
     },
     "metadata": {},
     "output_type": "display_data"
    }
   ],
   "source": [
    "import matplotlib.pyplot as plt\n",
    "\n",
    "fig, (ax1, ax2) = plt.subplots(ncols=2, sharex=False, sharey=False, figsize=(12,12))\n",
    "\n",
    "ecuador_states.plot(ax=ax1, facecolor='lightgrey', edgecolor='black')\n",
    "ecuador_municipalities.plot(ax=ax2, facecolor='lightgrey', edgecolor='black',linewidth=0.2)"
   ]
  },
  {
   "cell_type": "code",
   "execution_count": 32,
   "id": "b861aa60-1748-4fde-81a4-b90efa73918f",
   "metadata": {},
   "outputs": [
    {
     "data": {
      "text/html": [
       "<div>\n",
       "<style scoped>\n",
       "    .dataframe tbody tr th:only-of-type {\n",
       "        vertical-align: middle;\n",
       "    }\n",
       "\n",
       "    .dataframe tbody tr th {\n",
       "        vertical-align: top;\n",
       "    }\n",
       "\n",
       "    .dataframe thead th {\n",
       "        text-align: right;\n",
       "    }\n",
       "</style>\n",
       "<table border=\"1\" class=\"dataframe\">\n",
       "  <thead>\n",
       "    <tr style=\"text-align: right;\">\n",
       "      <th></th>\n",
       "      <th>DPA_VALOR</th>\n",
       "      <th>DPA_ANIO</th>\n",
       "      <th>DPA_CANTON</th>\n",
       "      <th>DPA_DESCAN</th>\n",
       "      <th>DPA_PROVIN</th>\n",
       "      <th>DPA_DESPRO</th>\n",
       "      <th>geometry</th>\n",
       "    </tr>\n",
       "  </thead>\n",
       "  <tbody>\n",
       "    <tr>\n",
       "      <th>0</th>\n",
       "      <td>0</td>\n",
       "      <td>2012</td>\n",
       "      <td>0201</td>\n",
       "      <td>GUARANDA</td>\n",
       "      <td>02</td>\n",
       "      <td>BOLIVAR</td>\n",
       "      <td>POLYGON ((711057.606 -126871.913, 711103.307 -...</td>\n",
       "    </tr>\n",
       "    <tr>\n",
       "      <th>1</th>\n",
       "      <td>0</td>\n",
       "      <td>2012</td>\n",
       "      <td>0202</td>\n",
       "      <td>CHILLANES</td>\n",
       "      <td>02</td>\n",
       "      <td>BOLIVAR</td>\n",
       "      <td>POLYGON ((720780.830 -205799.234, 720792.000 -...</td>\n",
       "    </tr>\n",
       "    <tr>\n",
       "      <th>2</th>\n",
       "      <td>0</td>\n",
       "      <td>2012</td>\n",
       "      <td>0203</td>\n",
       "      <td>CHIMBO</td>\n",
       "      <td>02</td>\n",
       "      <td>BOLIVAR</td>\n",
       "      <td>POLYGON ((711392.313 -177539.271, 711435.844 -...</td>\n",
       "    </tr>\n",
       "    <tr>\n",
       "      <th>3</th>\n",
       "      <td>0</td>\n",
       "      <td>2012</td>\n",
       "      <td>0204</td>\n",
       "      <td>ECHEANDIA</td>\n",
       "      <td>02</td>\n",
       "      <td>BOLIVAR</td>\n",
       "      <td>POLYGON ((700835.819 -162643.677, 700859.940 -...</td>\n",
       "    </tr>\n",
       "    <tr>\n",
       "      <th>4</th>\n",
       "      <td>0</td>\n",
       "      <td>2012</td>\n",
       "      <td>0205</td>\n",
       "      <td>SAN MIGUEL</td>\n",
       "      <td>02</td>\n",
       "      <td>BOLIVAR</td>\n",
       "      <td>POLYGON ((721996.743 -186203.775, 721996.714 -...</td>\n",
       "    </tr>\n",
       "    <tr>\n",
       "      <th>...</th>\n",
       "      <td>...</td>\n",
       "      <td>...</td>\n",
       "      <td>...</td>\n",
       "      <td>...</td>\n",
       "      <td>...</td>\n",
       "      <td>...</td>\n",
       "      <td>...</td>\n",
       "    </tr>\n",
       "    <tr>\n",
       "      <th>219</th>\n",
       "      <td>0</td>\n",
       "      <td>2012</td>\n",
       "      <td>2002</td>\n",
       "      <td>ISABELA</td>\n",
       "      <td>20</td>\n",
       "      <td>GALAPAGOS</td>\n",
       "      <td>MULTIPOLYGON (((-613054.697 -109276.449, -6130...</td>\n",
       "    </tr>\n",
       "    <tr>\n",
       "      <th>220</th>\n",
       "      <td>0</td>\n",
       "      <td>2012</td>\n",
       "      <td>2402</td>\n",
       "      <td>LA LIBERTAD</td>\n",
       "      <td>24</td>\n",
       "      <td>SANTA ELENA</td>\n",
       "      <td>POLYGON ((514628.481 -250518.839, 514628.819 -...</td>\n",
       "    </tr>\n",
       "    <tr>\n",
       "      <th>221</th>\n",
       "      <td>0</td>\n",
       "      <td>2012</td>\n",
       "      <td>1114</td>\n",
       "      <td>PINDAL</td>\n",
       "      <td>11</td>\n",
       "      <td>LOJA</td>\n",
       "      <td>POLYGON ((596585.197 -444895.275, 596613.489 -...</td>\n",
       "    </tr>\n",
       "    <tr>\n",
       "      <th>222</th>\n",
       "      <td>0</td>\n",
       "      <td>2012</td>\n",
       "      <td>0702</td>\n",
       "      <td>ARENILLAS</td>\n",
       "      <td>07</td>\n",
       "      <td>EL ORO</td>\n",
       "      <td>POLYGON ((587322.100 -386566.774, 587404.726 -...</td>\n",
       "    </tr>\n",
       "    <tr>\n",
       "      <th>223</th>\n",
       "      <td>0</td>\n",
       "      <td>2012</td>\n",
       "      <td>0707</td>\n",
       "      <td>HUAQUILLAS</td>\n",
       "      <td>07</td>\n",
       "      <td>EL ORO</td>\n",
       "      <td>MULTIPOLYGON (((588399.138 -379771.816, 588284...</td>\n",
       "    </tr>\n",
       "  </tbody>\n",
       "</table>\n",
       "<p>224 rows × 7 columns</p>\n",
       "</div>"
      ],
      "text/plain": [
       "     DPA_VALOR DPA_ANIO DPA_CANTON   DPA_DESCAN DPA_PROVIN   DPA_DESPRO  \\\n",
       "0            0     2012       0201     GUARANDA         02      BOLIVAR   \n",
       "1            0     2012       0202    CHILLANES         02      BOLIVAR   \n",
       "2            0     2012       0203       CHIMBO         02      BOLIVAR   \n",
       "3            0     2012       0204    ECHEANDIA         02      BOLIVAR   \n",
       "4            0     2012       0205   SAN MIGUEL         02      BOLIVAR   \n",
       "..         ...      ...        ...          ...        ...          ...   \n",
       "219          0     2012       2002      ISABELA         20    GALAPAGOS   \n",
       "220          0     2012       2402  LA LIBERTAD         24  SANTA ELENA   \n",
       "221          0     2012       1114       PINDAL         11         LOJA   \n",
       "222          0     2012       0702    ARENILLAS         07       EL ORO   \n",
       "223          0     2012       0707   HUAQUILLAS         07       EL ORO   \n",
       "\n",
       "                                              geometry  \n",
       "0    POLYGON ((711057.606 -126871.913, 711103.307 -...  \n",
       "1    POLYGON ((720780.830 -205799.234, 720792.000 -...  \n",
       "2    POLYGON ((711392.313 -177539.271, 711435.844 -...  \n",
       "3    POLYGON ((700835.819 -162643.677, 700859.940 -...  \n",
       "4    POLYGON ((721996.743 -186203.775, 721996.714 -...  \n",
       "..                                                 ...  \n",
       "219  MULTIPOLYGON (((-613054.697 -109276.449, -6130...  \n",
       "220  POLYGON ((514628.481 -250518.839, 514628.819 -...  \n",
       "221  POLYGON ((596585.197 -444895.275, 596613.489 -...  \n",
       "222  POLYGON ((587322.100 -386566.774, 587404.726 -...  \n",
       "223  MULTIPOLYGON (((588399.138 -379771.816, 588284...  \n",
       "\n",
       "[224 rows x 7 columns]"
      ]
     },
     "execution_count": 32,
     "metadata": {},
     "output_type": "execute_result"
    }
   ],
   "source": [
    "ecuador_states.to_crs(24817)"
   ]
  },
  {
   "cell_type": "code",
   "execution_count": 33,
   "id": "db2e036e-ed49-4a92-88fe-8dc146f7f0d7",
   "metadata": {},
   "outputs": [],
   "source": [
    "# set as unprojected\n",
    "ecuador_states.crs = \"EPSG:24817\"\n",
    "ecuador_municipalities.crs = \"EPSG:24817\""
   ]
  },
  {
   "cell_type": "code",
   "execution_count": 34,
   "id": "a5cec628-4098-477f-b097-7e42ca6490ab",
   "metadata": {},
   "outputs": [],
   "source": [
    "ecuador_states=ecuador_states.to_crs(24817)\n",
    "ecuador_municipalities=ecuador_municipalities.to_crs(24817)"
   ]
  }
 ],
 "metadata": {
  "kernelspec": {
   "display_name": "Python 3 (ipykernel)",
   "language": "python",
   "name": "python3"
  },
  "language_info": {
   "codemirror_mode": {
    "name": "ipython",
    "version": 3
   },
   "file_extension": ".py",
   "mimetype": "text/x-python",
   "name": "python",
   "nbconvert_exporter": "python",
   "pygments_lexer": "ipython3",
   "version": "3.11.7"
  }
 },
 "nbformat": 4,
 "nbformat_minor": 5
}
